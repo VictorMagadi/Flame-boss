{
  "nbformat": 4,
  "nbformat_minor": 0,
  "metadata": {
    "colab": {
      "provenance": [],
      "authorship_tag": "ABX9TyNo0Su7pdKKh87u4Ng1I93D",
      "include_colab_link": true
    },
    "kernelspec": {
      "name": "python3",
      "display_name": "Python 3"
    },
    "language_info": {
      "name": "python"
    }
  },
  "cells": [
    {
      "cell_type": "markdown",
      "metadata": {
        "id": "view-in-github",
        "colab_type": "text"
      },
      "source": [
        "<a href=\"https://colab.research.google.com/github/VictorMagadi/Flame-boss/blob/main/mcq.ipynb\" target=\"_parent\"><img src=\"https://colab.research.google.com/assets/colab-badge.svg\" alt=\"Open In Colab\"/></a>"
      ]
    },
    {
      "cell_type": "markdown",
      "source": [
        "Question 1\n"
      ],
      "metadata": {
        "id": "dVg3-sDwpAOR"
      }
    },
    {
      "cell_type": "code",
      "source": [
        "def find_element(arr, x):\n",
        "    for element in arr:\n",
        "        if element == x:\n",
        "            return True\n",
        "    return False\n",
        "animal_list = [\"Lion\", \"Elephant\", \"Tiger\", \"Giraffe\", \"Zebra\", \"Panda\", \"Kangaroo\", \"Penguin\"]\n",
        "find_element(animal_list , \"Penguin\")"
      ],
      "metadata": {
        "colab": {
          "base_uri": "https://localhost:8080/"
        },
        "id": "p-jfcqxEp0mH",
        "outputId": "d77b0d61-b787-467c-d860-8d2b0ecd2837"
      },
      "execution_count": null,
      "outputs": [
        {
          "output_type": "execute_result",
          "data": {
            "text/plain": [
              "True"
            ]
          },
          "metadata": {},
          "execution_count": 4
        }
      ]
    },
    {
      "cell_type": "code",
      "source": [
        "def find_element(arr, x):\n",
        "    for element in arr:\n",
        "        if element == x:\n",
        "            return True\n",
        "    return False\n"
      ],
      "metadata": {
        "id": "jGtqwFRSpDbr"
      },
      "execution_count": null,
      "outputs": []
    },
    {
      "cell_type": "markdown",
      "source": [
        "Question 2"
      ],
      "metadata": {
        "id": "dcJk_pMsqZd8"
      }
    },
    {
      "cell_type": "code",
      "source": [
        "def bubble_sort(items):\n",
        "    \"\"\"Implementation of bubble sort.\"\"\"\n",
        "    for i in range(len(items)):\n",
        "        for j in range(len(items) - 1 - i):\n",
        "            if items[j] > items[j + 1]:\n",
        "                items[j], items[j + 1] = items[j + 1], items[j]\n",
        "    return items\n",
        "print(bubble_sort([64, 34, 25, 12, 22, 11, 90]))\n"
      ],
      "metadata": {
        "colab": {
          "base_uri": "https://localhost:8080/"
        },
        "id": "Hz8b6sQEqOOT",
        "outputId": "80eed61f-d4ca-4750-e7df-85a64b8e1ec5"
      },
      "execution_count": null,
      "outputs": [
        {
          "output_type": "stream",
          "name": "stdout",
          "text": [
            "[11, 12, 22, 25, 34, 64, 90]\n"
          ]
        }
      ]
    },
    {
      "cell_type": "markdown",
      "source": [
        "Question 3"
      ],
      "metadata": {
        "id": "tzu8Y5d2q2Dw"
      }
    },
    {
      "cell_type": "code",
      "source": [
        "class BankAccount:\n",
        "    def __init__(self, balance):\n",
        "        self.balance = balance\n",
        "\n",
        "    def deposit(self, amount):\n",
        "        self.balance += amount\n",
        "account = BankAccount(100)\n",
        "account.deposit(50)\n",
        "print(account.balance)\n"
      ],
      "metadata": {
        "colab": {
          "base_uri": "https://localhost:8080/"
        },
        "id": "aJsgvgm5q4lO",
        "outputId": "608b5582-7d30-419f-c068-9c98c0ee2a78"
      },
      "execution_count": null,
      "outputs": [
        {
          "output_type": "stream",
          "name": "stdout",
          "text": [
            "150\n"
          ]
        }
      ]
    },
    {
      "cell_type": "markdown",
      "source": [
        "Question 4"
      ],
      "metadata": {
        "id": "8POOwwH4rFad"
      }
    },
    {
      "cell_type": "code",
      "source": [
        "def r(s):\n",
        "    if len(s) == 0:\n",
        "        return s\n",
        "    return r(s[1:]) + s[0]\n",
        "r(\"programming\")\n"
      ],
      "metadata": {
        "colab": {
          "base_uri": "https://localhost:8080/",
          "height": 35
        },
        "id": "ZLkDfCVrrLK7",
        "outputId": "e9299a36-ed23-4292-c19e-3625d1bf0e69"
      },
      "execution_count": null,
      "outputs": [
        {
          "output_type": "execute_result",
          "data": {
            "text/plain": [
              "'gnimmargorp'"
            ],
            "application/vnd.google.colaboratory.intrinsic+json": {
              "type": "string"
            }
          },
          "metadata": {},
          "execution_count": 7
        }
      ]
    },
    {
      "cell_type": "markdown",
      "source": [
        "Question 5"
      ],
      "metadata": {
        "id": "1UhR825MrSvt"
      }
    },
    {
      "cell_type": "code",
      "source": [
        "numbers = [-2, 5, -9, 8, -1, 10]\n",
        "result = filter(lambda x: x >= 0, numbers)\n",
        "print(list(result))  # Output: [5, 8, 10]\n",
        "result = filter(lambda x: x < 0, numbers)\n",
        "print(list(result))  # Output: [-2, -9, -1]"
      ],
      "metadata": {
        "colab": {
          "base_uri": "https://localhost:8080/"
        },
        "id": "5O-wAaIXrZPJ",
        "outputId": "f6db7e3e-b5f9-4334-d745-a9fff2639194"
      },
      "execution_count": null,
      "outputs": [
        {
          "output_type": "stream",
          "name": "stdout",
          "text": [
            "[5, 8, 10]\n",
            "[-2, -9, -1]\n"
          ]
        }
      ]
    },
    {
      "cell_type": "markdown",
      "source": [
        "Question 6"
      ],
      "metadata": {
        "id": "hTEBjrR5sqJp"
      }
    },
    {
      "cell_type": "code",
      "source": [
        "class Circle:\n",
        "    def __init__(self, radius):\n",
        "        self.radius = radius\n",
        "\n",
        "    def circumference(self):\n",
        "        return 2 * 3.14159 * self.radius\n",
        "c = Circle(3)\n",
        "print(c.circumference())\n"
      ],
      "metadata": {
        "colab": {
          "base_uri": "https://localhost:8080/"
        },
        "id": "SGlZ-9KWss7f",
        "outputId": "16a1b32c-8191-4733-9b74-3def918d0667"
      },
      "execution_count": null,
      "outputs": [
        {
          "output_type": "stream",
          "name": "stdout",
          "text": [
            "18.849539999999998\n"
          ]
        }
      ]
    },
    {
      "cell_type": "markdown",
      "source": [
        "Question 7"
      ],
      "metadata": {
        "id": "Y1FaJebQs84O"
      }
    },
    {
      "cell_type": "code",
      "source": [
        "class Rectangle:\n",
        "    def __init__(self, width, height):\n",
        "        self.width = width\n",
        "        self.height = height\n",
        "\n",
        "    def area(self):\n",
        "        return self.width * self.height\n",
        "\n",
        "    def perimeter(self):\n",
        "        return 2 * (self.width + self.height)\n",
        "rect = Rectangle(3, 4)\n",
        "print(\"Area:\", rect.area(), \"Perimeter:\", rect.perimeter())\n"
      ],
      "metadata": {
        "colab": {
          "base_uri": "https://localhost:8080/"
        },
        "id": "L_2rvCUVtE4L",
        "outputId": "1e1718d7-d684-405d-9bbd-89dc175f4b62"
      },
      "execution_count": null,
      "outputs": [
        {
          "output_type": "stream",
          "name": "stdout",
          "text": [
            "Area: 12 Perimeter: 14\n"
          ]
        }
      ]
    },
    {
      "cell_type": "markdown",
      "source": [
        "Question 8"
      ],
      "metadata": {
        "id": "h8IwjatztTJp"
      }
    },
    {
      "cell_type": "code",
      "source": [
        "numbers = [1, 2, 3, 4, 5]\n",
        "result = map(lambda x: x**2, numbers)\n",
        "print(list(result))\n"
      ],
      "metadata": {
        "colab": {
          "base_uri": "https://localhost:8080/"
        },
        "id": "hpQDlU0itZDd",
        "outputId": "e750fd65-33ea-4d20-9707-52f8782e7667"
      },
      "execution_count": null,
      "outputs": [
        {
          "output_type": "stream",
          "name": "stdout",
          "text": [
            "[1, 4, 9, 16, 25]\n"
          ]
        }
      ]
    }
  ]
}